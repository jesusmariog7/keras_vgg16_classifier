{
  "nbformat": 4,
  "nbformat_minor": 0,
  "metadata": {
    "kernelspec": {
      "display_name": "Python",
      "language": "python",
      "name": "conda-env-python-py"
    },
    "language_info": {
      "codemirror_mode": {
        "name": "ipython",
        "version": 3
      },
      "file_extension": ".py",
      "mimetype": "text/x-python",
      "name": "python",
      "nbconvert_exporter": "python",
      "pygments_lexer": "ipython3",
      "version": "3.6.7"
    },
    "colab": {
      "name": "DL0321EN_4_1_Comparing_Models_GithubVersion.ipynb",
      "provenance": [],
      "collapsed_sections": [],
      "toc_visible": true
    }
  },
  "cells": [
    {
      "cell_type": "markdown",
      "metadata": {
        "button": false,
        "deletable": true,
        "new_sheet": false,
        "run_control": {
          "read_only": false
        },
        "id": "7QDrg5hm1xee",
        "colab_type": "text"
      },
      "source": [
        "<a href=\"https://cognitiveclass.ai\"><img src = \"https://s3-api.us-geo.objectstorage.softlayer.net/cf-courses-data/CognitiveClass/Logos/organization_logo/organization_logo.png\" width = 400> </a>\n",
        "\n"
      ]
    },
    {
      "cell_type": "markdown",
      "metadata": {
        "button": false,
        "deletable": true,
        "new_sheet": false,
        "run_control": {
          "read_only": false
        },
        "id": "Fhxb89_81xef",
        "colab_type": "text"
      },
      "source": [
        "## Introduction\n"
      ]
    },
    {
      "cell_type": "markdown",
      "metadata": {
        "button": false,
        "deletable": true,
        "new_sheet": false,
        "run_control": {
          "read_only": false
        },
        "id": "6WD1lmsN1xeh",
        "colab_type": "text"
      },
      "source": [
        "In this notebook, an image classifier is created using the VGG16 pre-trained model to predict whether the images in the test data are images of cracked concrete or not. "
      ]
    },
    {
      "cell_type": "markdown",
      "metadata": {
        "id": "mSbOP29R1xek",
        "colab_type": "text"
      },
      "source": [
        "<a id=\"item41\"></a>"
      ]
    },
    {
      "cell_type": "markdown",
      "metadata": {
        "id": "H3NPRu1e1xel",
        "colab_type": "text"
      },
      "source": [
        "## Download Data"
      ]
    },
    {
      "cell_type": "markdown",
      "metadata": {
        "id": "vIAKGmvx1xem",
        "colab_type": "text"
      },
      "source": [
        "Use the <code>wget</code> command to download the data from here: https://s3-api.us-geo.objectstorage.softlayer.net/cf-courses-data/CognitiveClass/DL0321EN/data/concrete_data_week4.zip"
      ]
    },
    {
      "cell_type": "markdown",
      "metadata": {
        "id": "8yudAlbt1xeo",
        "colab_type": "text"
      },
      "source": [
        "Use the following cells to download the data."
      ]
    },
    {
      "cell_type": "code",
      "metadata": {
        "id": "zrUuv1hZ1xep",
        "colab_type": "code",
        "outputId": "7c9498d9-d877-463c-cb5e-dd3e9cdfaac1",
        "colab": {
          "base_uri": "https://localhost:8080/",
          "height": 224
        }
      },
      "source": [
        "!wget  https://s3-api.us-geo.objectstorage.softlayer.net/cf-courses-data/CognitiveClass/DL0321EN/data/concrete_data_week4.zip"
      ],
      "execution_count": 0,
      "outputs": [
        {
          "output_type": "stream",
          "text": [
            "--2020-02-05 21:24:57--  https://s3-api.us-geo.objectstorage.softlayer.net/cf-courses-data/CognitiveClass/DL0321EN/data/concrete_data_week4.zip\n",
            "Resolving s3-api.us-geo.objectstorage.softlayer.net (s3-api.us-geo.objectstorage.softlayer.net)... 67.228.254.196\n",
            "Connecting to s3-api.us-geo.objectstorage.softlayer.net (s3-api.us-geo.objectstorage.softlayer.net)|67.228.254.196|:443... connected.\n",
            "HTTP request sent, awaiting response... 200 OK\n",
            "Length: 261483817 (249M) [application/zip]\n",
            "Saving to: ‘concrete_data_week4.zip’\n",
            "\n",
            "concrete_data_week4 100%[===================>] 249.37M  34.9MB/s    in 7.7s    \n",
            "\n",
            "2020-02-05 21:25:05 (32.3 MB/s) - ‘concrete_data_week4.zip’ saved [261483817/261483817]\n",
            "\n"
          ],
          "name": "stdout"
        }
      ]
    },
    {
      "cell_type": "code",
      "metadata": {
        "id": "59JMHRjtyo-a",
        "colab_type": "code",
        "colab": {}
      },
      "source": [
        "!unzip concrete_data_week4.zip"
      ],
      "execution_count": 0,
      "outputs": []
    },
    {
      "cell_type": "markdown",
      "metadata": {
        "id": "u1aw4zSz1xew",
        "colab_type": "text"
      },
      "source": [
        "The data has already been divided into a train, validation, and test sets."
      ]
    },
    {
      "cell_type": "markdown",
      "metadata": {
        "button": false,
        "deletable": true,
        "new_sheet": false,
        "run_control": {
          "read_only": false
        },
        "id": "Cnn92GwW1xey",
        "colab_type": "text"
      },
      "source": [
        "<a id=\"item42\"></a>"
      ]
    },
    {
      "cell_type": "markdown",
      "metadata": {
        "id": "S5JT2nnm1xe0",
        "colab_type": "text"
      },
      "source": [
        "## Part 1"
      ]
    },
    {
      "cell_type": "markdown",
      "metadata": {
        "id": "SemgRM8w1xe1",
        "colab_type": "text"
      },
      "source": [
        "In this part, the VGG16 pre-trained model is used to create an image classifier. The model <code>VGG16</code> can be imported from <code>keras.applications</code>."
      ]
    },
    {
      "cell_type": "markdown",
      "metadata": {
        "id": "-lXcGWtR1xe3",
        "colab_type": "text"
      },
      "source": [
        "Steps to follow:\n",
        "1. Import libraries, modules, and packages you will need. Make sure to import the *preprocess_input* function from <code>keras.applications.vgg16</code>.\n",
        "2. Use a batch size of 100 images for both training and validation.\n",
        "3. Construct an ImageDataGenerator for the training set and another one for the validation set. VGG16 was originally trained on 224 × 224 images, so make sure to address that when defining the ImageDataGenerator instances.\n",
        "4. Create a sequential model using Keras. Add VGG16 model to it and dense layer.\n",
        "5. Compile the mode using the adam optimizer and the categorical_crossentropy loss function.\n",
        "6. Fit the model on the augmented data using the ImageDataGenerators."
      ]
    },
    {
      "cell_type": "code",
      "metadata": {
        "id": "HB0KAwDt1xe5",
        "colab_type": "code",
        "outputId": "c8cd5db9-aa56-418b-b4f2-99cc53d23f9e",
        "colab": {
          "base_uri": "https://localhost:8080/",
          "height": 97
        }
      },
      "source": [
        "import keras\n",
        "from keras.applications import VGG16\n",
        "from keras.applications.vgg16 import preprocess_input\n"
      ],
      "execution_count": 0,
      "outputs": [
        {
          "output_type": "stream",
          "text": [
            "Using TensorFlow backend.\n"
          ],
          "name": "stderr"
        },
        {
          "output_type": "display_data",
          "data": {
            "text/html": [
              "<p style=\"color: red;\">\n",
              "The default version of TensorFlow in Colab will soon switch to TensorFlow 2.x.<br>\n",
              "We recommend you <a href=\"https://www.tensorflow.org/guide/migrate\" target=\"_blank\">upgrade</a> now \n",
              "or ensure your notebook will continue to use TensorFlow 1.x via the <code>%tensorflow_version 1.x</code> magic:\n",
              "<a href=\"https://colab.research.google.com/notebooks/tensorflow_version.ipynb\" target=\"_blank\">more info</a>.</p>\n"
            ],
            "text/plain": [
              "<IPython.core.display.HTML object>"
            ]
          },
          "metadata": {
            "tags": []
          }
        }
      ]
    },
    {
      "cell_type": "code",
      "metadata": {
        "id": "FffVRwSU6Y-K",
        "colab_type": "code",
        "colab": {}
      },
      "source": [
        "from keras.models import Sequential \n",
        "from keras.layers import Dense"
      ],
      "execution_count": 0,
      "outputs": []
    },
    {
      "cell_type": "code",
      "metadata": {
        "id": "eo9RmhOe1xe8",
        "colab_type": "code",
        "colab": {}
      },
      "source": [
        " from keras.preprocessing.image import ImageDataGenerator"
      ],
      "execution_count": 0,
      "outputs": []
    },
    {
      "cell_type": "markdown",
      "metadata": {
        "colab_type": "text",
        "id": "SH3-jG3dZ7Ms"
      },
      "source": [
        "Prepare data"
      ]
    },
    {
      "cell_type": "code",
      "metadata": {
        "scrolled": true,
        "id": "8nR9pUkL1xe_",
        "colab_type": "code",
        "colab": {}
      },
      "source": [
        "image_resize = 224\n",
        "batch_size = 100\n",
        "directory_training = 'concrete_data_week4/train'\n",
        "directory_validation ='concrete_data_week4/valid'"
      ],
      "execution_count": 0,
      "outputs": []
    },
    {
      "cell_type": "code",
      "metadata": {
        "id": "bMwzOdoC1xfD",
        "colab_type": "code",
        "colab": {}
      },
      "source": [
        "image_generator = ImageDataGenerator(\n",
        "preprocessing_function = preprocess_input\n",
        ")"
      ],
      "execution_count": 0,
      "outputs": []
    },
    {
      "cell_type": "code",
      "metadata": {
        "id": "9rHRYAzf1xfG",
        "colab_type": "code",
        "outputId": "02e1074c-4d6c-48a6-e30e-804fe0f28320",
        "colab": {
          "base_uri": "https://localhost:8080/",
          "height": 34
        }
      },
      "source": [
        "image_generator_training = image_generator.flow_from_directory( directory_training,\n",
        "class_mode='categorical',\n",
        "seed=24,\n",
        "target_size=(image_resize, image_resize),\n",
        "batch_size=batch_size)"
      ],
      "execution_count": 0,
      "outputs": [
        {
          "output_type": "stream",
          "text": [
            "Found 30001 images belonging to 2 classes.\n"
          ],
          "name": "stdout"
        }
      ]
    },
    {
      "cell_type": "code",
      "metadata": {
        "id": "KX_QFQcR1xfJ",
        "colab_type": "code",
        "outputId": "c1f2d881-6080-4efa-98e8-602a9c9a18ce",
        "colab": {
          "base_uri": "https://localhost:8080/",
          "height": 34
        }
      },
      "source": [
        "image_generator_validation = image_generator.flow_from_directory( directory_validation,\n",
        "class_mode='categorical',\n",
        "seed=24,\n",
        "target_size=(image_resize, image_resize),\n",
        "batch_size=batch_size)"
      ],
      "execution_count": 0,
      "outputs": [
        {
          "output_type": "stream",
          "text": [
            "Found 9501 images belonging to 2 classes.\n"
          ],
          "name": "stdout"
        }
      ]
    },
    {
      "cell_type": "code",
      "metadata": {
        "id": "o5CRd5Qf1xfM",
        "colab_type": "code",
        "outputId": "6ec98872-c25d-4ef0-c329-bc3a0ab65d56",
        "colab": {
          "base_uri": "https://localhost:8080/",
          "height": 34
        }
      },
      "source": [
        "ls concrete_data_week4/valid/negative | wc"
      ],
      "execution_count": 0,
      "outputs": [
        {
          "output_type": "stream",
          "text": [
            "   4750    4750   47500\n"
          ],
          "name": "stdout"
        }
      ]
    },
    {
      "cell_type": "markdown",
      "metadata": {
        "colab_type": "text",
        "id": "cj1foxZIaDCG"
      },
      "source": [
        "Create model"
      ]
    },
    {
      "cell_type": "code",
      "metadata": {
        "id": "cm7ByCJk1xfO",
        "colab_type": "code",
        "colab": {}
      },
      "source": [
        "model=Sequential()\n",
        "model.add(VGG16( \n",
        "    include_top = False, pooling ='avg', weights='imagenet'\n",
        "    ))"
      ],
      "execution_count": 0,
      "outputs": []
    },
    {
      "cell_type": "code",
      "metadata": {
        "id": "os9q5vFW1xfR",
        "colab_type": "code",
        "colab": {}
      },
      "source": [
        "model.add(Dense(2, activation='softmax'))\n"
      ],
      "execution_count": 0,
      "outputs": []
    },
    {
      "cell_type": "code",
      "metadata": {
        "id": "N9hZ3XCc7hpk",
        "colab_type": "code",
        "outputId": "a5154b8b-018c-4a6f-abf6-b625db736a63",
        "colab": {
          "base_uri": "https://localhost:8080/",
          "height": 51
        }
      },
      "source": [
        " model.layers"
      ],
      "execution_count": 0,
      "outputs": [
        {
          "output_type": "execute_result",
          "data": {
            "text/plain": [
              "[<keras.engine.training.Model at 0x7f4cff3bfb38>,\n",
              " <keras.layers.core.Dense at 0x7f4d14dbf748>]"
            ]
          },
          "metadata": {
            "tags": []
          },
          "execution_count": 30
        }
      ]
    },
    {
      "cell_type": "code",
      "metadata": {
        "id": "GdbXS4Iy7k56",
        "colab_type": "code",
        "outputId": "d07264b3-e973-4cb7-9348-bc0738945a84",
        "colab": {
          "base_uri": "https://localhost:8080/",
          "height": 357
        }
      },
      "source": [
        "model.layers[0].layers"
      ],
      "execution_count": 0,
      "outputs": [
        {
          "output_type": "execute_result",
          "data": {
            "text/plain": [
              "[<keras.engine.input_layer.InputLayer at 0x7f4d073775f8>,\n",
              " <keras.layers.convolutional.Conv2D at 0x7f4d073771d0>,\n",
              " <keras.layers.convolutional.Conv2D at 0x7f4d07377400>,\n",
              " <keras.layers.pooling.MaxPooling2D at 0x7f4cff44f7f0>,\n",
              " <keras.layers.convolutional.Conv2D at 0x7f4cff452860>,\n",
              " <keras.layers.convolutional.Conv2D at 0x7f4cff3d7978>,\n",
              " <keras.layers.pooling.MaxPooling2D at 0x7f4cff3de6d8>,\n",
              " <keras.layers.convolutional.Conv2D at 0x7f4cff3e8710>,\n",
              " <keras.layers.convolutional.Conv2D at 0x7f4cff3e8f28>,\n",
              " <keras.layers.convolutional.Conv2D at 0x7f4cff3ede10>,\n",
              " <keras.layers.pooling.MaxPooling2D at 0x7f4cff3f6940>,\n",
              " <keras.layers.convolutional.Conv2D at 0x7f4cff3fef60>,\n",
              " <keras.layers.convolutional.Conv2D at 0x7f4cff402eb8>,\n",
              " <keras.layers.convolutional.Conv2D at 0x7f4cff408da0>,\n",
              " <keras.layers.pooling.MaxPooling2D at 0x7f4cff3955c0>,\n",
              " <keras.layers.convolutional.Conv2D at 0x7f4cff399fd0>,\n",
              " <keras.layers.convolutional.Conv2D at 0x7f4cff3a2e80>,\n",
              " <keras.layers.convolutional.Conv2D at 0x7f4cff3a7d68>,\n",
              " <keras.layers.pooling.MaxPooling2D at 0x7f4cff3b3588>,\n",
              " <keras.layers.pooling.GlobalAveragePooling2D at 0x7f4cff3b9f98>]"
            ]
          },
          "metadata": {
            "tags": []
          },
          "execution_count": 31
        }
      ]
    },
    {
      "cell_type": "code",
      "metadata": {
        "id": "_3r2Z8ZO7nFI",
        "colab_type": "code",
        "colab": {}
      },
      "source": [
        " model.layers[0].trainable=False"
      ],
      "execution_count": 0,
      "outputs": []
    },
    {
      "cell_type": "code",
      "metadata": {
        "id": "JwYHuyov7rB3",
        "colab_type": "code",
        "outputId": "adb0debf-8ba1-4c1f-aca5-0c74bf424f93",
        "colab": {
          "base_uri": "https://localhost:8080/",
          "height": 221
        }
      },
      "source": [
        " model.summary()"
      ],
      "execution_count": 0,
      "outputs": [
        {
          "output_type": "stream",
          "text": [
            "Model: \"sequential_2\"\n",
            "_________________________________________________________________\n",
            "Layer (type)                 Output Shape              Param #   \n",
            "=================================================================\n",
            "vgg16 (Model)                (None, 512)               14714688  \n",
            "_________________________________________________________________\n",
            "dense_2 (Dense)              (None, 2)                 1026      \n",
            "=================================================================\n",
            "Total params: 14,715,714\n",
            "Trainable params: 1,026\n",
            "Non-trainable params: 14,714,688\n",
            "_________________________________________________________________\n"
          ],
          "name": "stdout"
        }
      ]
    },
    {
      "cell_type": "markdown",
      "metadata": {
        "colab_type": "text",
        "id": "G-R1C_OAaM_K"
      },
      "source": [
        "Compile and train"
      ]
    },
    {
      "cell_type": "code",
      "metadata": {
        "id": "SebGzTwm1xfW",
        "colab_type": "code",
        "colab": {}
      },
      "source": [
        "model.compile(optimizer='adam', loss='categorical_crossentropy', metrics=['accuracy'])"
      ],
      "execution_count": 0,
      "outputs": []
    },
    {
      "cell_type": "code",
      "metadata": {
        "id": "jF11f8Za7md3",
        "colab_type": "code",
        "colab": {}
      },
      "source": [
        "steps_per_epoch_training = len(image_generator_training)\n",
        "steps_per_epoch_validation = len(image_generator_validation)\n",
        "num_epochs = 2"
      ],
      "execution_count": 0,
      "outputs": []
    },
    {
      "cell_type": "code",
      "metadata": {
        "id": "ZRL-pDQc-2Hs",
        "colab_type": "code",
        "outputId": "3c659c64-664d-4163-b1b5-526bc7bc228f",
        "colab": {
          "base_uri": "https://localhost:8080/",
          "height": 34
        }
      },
      "source": [
        "steps_per_epoch_training"
      ],
      "execution_count": 0,
      "outputs": [
        {
          "output_type": "execute_result",
          "data": {
            "text/plain": [
              "301"
            ]
          },
          "metadata": {
            "tags": []
          },
          "execution_count": 36
        }
      ]
    },
    {
      "cell_type": "code",
      "metadata": {
        "id": "Mnjmi3tE-0WG",
        "colab_type": "code",
        "outputId": "4213cc1e-4a13-4a81-c8f5-d4034f0f2a31",
        "colab": {
          "base_uri": "https://localhost:8080/",
          "height": 34
        }
      },
      "source": [
        "steps_per_epoch_validation"
      ],
      "execution_count": 0,
      "outputs": [
        {
          "output_type": "execute_result",
          "data": {
            "text/plain": [
              "96"
            ]
          },
          "metadata": {
            "tags": []
          },
          "execution_count": 37
        }
      ]
    },
    {
      "cell_type": "code",
      "metadata": {
        "id": "5fgfAXV41xfY",
        "colab_type": "code",
        "outputId": "26cefb5d-9e06-43ba-854b-0f7e80f7a8e1",
        "colab": {
          "base_uri": "https://localhost:8080/",
          "height": 224
        }
      },
      "source": [
        "fit_history = model.fit_generator(\n",
        "image_generator_training,\n",
        "epochs = num_epochs,\n",
        "validation_data = image_generator_validation,\n",
        "validation_steps = steps_per_epoch_validation,\n",
        "verbose=1\n",
        ")"
      ],
      "execution_count": 0,
      "outputs": [
        {
          "output_type": "stream",
          "text": [
            "WARNING:tensorflow:From /usr/local/lib/python3.6/dist-packages/tensorflow_core/python/ops/math_grad.py:1424: where (from tensorflow.python.ops.array_ops) is deprecated and will be removed in a future version.\n",
            "Instructions for updating:\n",
            "Use tf.where in 2.0, which has the same broadcast rule as np.where\n",
            "WARNING:tensorflow:From /usr/local/lib/python3.6/dist-packages/keras/backend/tensorflow_backend.py:1033: The name tf.assign_add is deprecated. Please use tf.compat.v1.assign_add instead.\n",
            "\n",
            "WARNING:tensorflow:From /usr/local/lib/python3.6/dist-packages/keras/backend/tensorflow_backend.py:1020: The name tf.assign is deprecated. Please use tf.compat.v1.assign instead.\n",
            "\n",
            "Epoch 1/2\n",
            "301/301 [==============================] - 13267s 44s/step - loss: 0.0912 - acc: 0.9693 - val_loss: 0.0243 - val_acc: 0.9941\n",
            "Epoch 2/2\n",
            "301/301 [==============================] - 13292s 44s/step - loss: 0.0193 - acc: 0.9958 - val_loss: 0.0144 - val_acc: 0.9964\n"
          ],
          "name": "stdout"
        }
      ]
    },
    {
      "cell_type": "markdown",
      "metadata": {
        "id": "kwxFhZCX1xfb",
        "colab_type": "text"
      },
      "source": [
        "  Save model"
      ]
    },
    {
      "cell_type": "code",
      "metadata": {
        "id": "6YExXki1-Mtz",
        "colab_type": "code",
        "colab": {}
      },
      "source": [
        " model.save('classifier_vgg16_model.h5')"
      ],
      "execution_count": 0,
      "outputs": []
    },
    {
      "cell_type": "markdown",
      "metadata": {
        "id": "1vONmKHm1xfc",
        "colab_type": "text"
      },
      "source": [
        "<a id=\"item43\"></a>"
      ]
    },
    {
      "cell_type": "markdown",
      "metadata": {
        "id": "-f-Gd5Td1xfm",
        "colab_type": "text"
      },
      "source": [
        "## Part 2"
      ]
    },
    {
      "cell_type": "markdown",
      "metadata": {
        "id": "wgPB-11o1xfn",
        "colab_type": "text"
      },
      "source": [
        "Evaluate the deep learning model on a test data.\n",
        "\n",
        "1. Load the saved model that was built using the VGG16 model. \n",
        "2. Construct an ImageDataGenerator for the test set. For this ImageDataGenerator instance, you only need to pass the directory of the test images, target size, and the **shuffle** parameter and set it to False.\n",
        "3. Use the **evaluate_generator** method to evaluate the model on the test data, by passing the above ImageDataGenerator as an argument. \n",
        "4. Print the performance of the classifier using the VGG16 pre-trained model.\n"
      ]
    },
    {
      "cell_type": "code",
      "metadata": {
        "id": "7DQd_WNl1xfp",
        "colab_type": "code",
        "colab": {}
      },
      "source": [
        "from keras.models import load_model"
      ],
      "execution_count": 0,
      "outputs": []
    },
    {
      "cell_type": "code",
      "metadata": {
        "id": "lQfX6m9a5gVq",
        "colab_type": "code",
        "outputId": "6b7e83ad-3976-4ace-cf88-4482f0055ddf",
        "colab": {
          "base_uri": "https://localhost:8080/",
          "height": 71
        }
      },
      "source": [
        "model_vgg16 = load_model('classifier_vgg16_model.h5')"
      ],
      "execution_count": 0,
      "outputs": [
        {
          "output_type": "stream",
          "text": [
            "/usr/local/lib/python3.6/dist-packages/keras/engine/saving.py:350: UserWarning: Error in loading the saved optimizer state. As a result, your model is starting with a freshly initialized optimizer.\n",
            "  warnings.warn('Error in loading the saved optimizer '\n"
          ],
          "name": "stderr"
        }
      ]
    },
    {
      "cell_type": "code",
      "metadata": {
        "id": "aq0ulm381Gu5",
        "colab_type": "code",
        "colab": {}
      },
      "source": [
        "directory_test = 'concrete_data_week4/test'"
      ],
      "execution_count": 0,
      "outputs": []
    },
    {
      "cell_type": "code",
      "metadata": {
        "id": "08dcC73B1xfu",
        "colab_type": "code",
        "outputId": "453f489a-3da2-4e25-f07f-421abec7e20e",
        "colab": {
          "base_uri": "https://localhost:8080/",
          "height": 34
        }
      },
      "source": [
        "image_generator_test = image_generator.flow_from_directory( directory_test,\n",
        "target_size=(image_resize, image_resize),\n",
        "shuffle=False)"
      ],
      "execution_count": 0,
      "outputs": [
        {
          "output_type": "stream",
          "text": [
            "Found 500 images belonging to 2 classes.\n"
          ],
          "name": "stdout"
        }
      ]
    },
    {
      "cell_type": "code",
      "metadata": {
        "id": "wMfZuqbHVIrh",
        "colab_type": "code",
        "outputId": "8415663d-625b-4f19-c3bb-2b72d1dc3c2c",
        "colab": {
          "base_uri": "https://localhost:8080/",
          "height": 34
        }
      },
      "source": [
        "model_vgg16.metrics_names"
      ],
      "execution_count": 0,
      "outputs": [
        {
          "output_type": "execute_result",
          "data": {
            "text/plain": [
              "['loss', 'acc']"
            ]
          },
          "metadata": {
            "tags": []
          },
          "execution_count": 95
        }
      ]
    },
    {
      "cell_type": "code",
      "metadata": {
        "id": "hwv24ZTN1xfy",
        "colab_type": "code",
        "colab": {}
      },
      "source": [
        "results_vgg16 = model_vgg16.evaluate_generator(image_generator_test)"
      ],
      "execution_count": 0,
      "outputs": []
    },
    {
      "cell_type": "code",
      "metadata": {
        "id": "A_7jphFL6_cC",
        "colab_type": "code",
        "outputId": "9ac73a58-4441-4917-fc3f-7a4578db3777",
        "colab": {
          "base_uri": "https://localhost:8080/",
          "height": 51
        }
      },
      "source": [
        "loss_vgg16, acc_vgg16 = results_vgg16\n",
        "print(\"VGG16 loss: \", loss_vgg16)\n",
        "print(\"VGG16 accuracy: \", acc_vgg16)"
      ],
      "execution_count": 0,
      "outputs": [
        {
          "output_type": "stream",
          "text": [
            "VGG16 loss:  0.01456501765921712\n",
            "VGG16 accuracy:  0.996\n"
          ],
          "name": "stdout"
        }
      ]
    },
    {
      "cell_type": "markdown",
      "metadata": {
        "id": "n3wkmD831xf3",
        "colab_type": "text"
      },
      "source": [
        "## Part 3"
      ]
    },
    {
      "cell_type": "markdown",
      "metadata": {
        "id": "Kvfm_mH51xf3",
        "colab_type": "text"
      },
      "source": [
        "Predict whether the images in the test data are images of cracked concrete or not. \n",
        "\n",
        "1. Use the **predict_generator** method to predict the class of the images in the test data, by passing the test data ImageDataGenerator instance defined in the previous part as an argument. You can learn more about the **predict_generator** method [here](https://keras.io/models/sequential/).\n",
        "2. Report the class predictions of the first five images in the test set. You should print something list this:\n",
        "\n",
        "<center>\n",
        "    <ul style=\"list-style-type:none\">\n",
        "        <li>Positive</li>  \n",
        "        <li>Negative</li> \n",
        "        <li>Positive</li>\n",
        "        <li>Positive</li>\n",
        "        <li>Negative</li>\n",
        "    </ul>\n",
        "</center>"
      ]
    },
    {
      "cell_type": "code",
      "metadata": {
        "id": "D1I93Jp38kRY",
        "colab_type": "code",
        "colab": {}
      },
      "source": [
        "first_batch = image_generator_test.next()"
      ],
      "execution_count": 0,
      "outputs": []
    },
    {
      "cell_type": "code",
      "metadata": {
        "id": "V1qUr7lW9ZZP",
        "colab_type": "code",
        "outputId": "572fcfb7-2cca-488d-e4f5-f9dbd62a2364",
        "colab": {
          "base_uri": "https://localhost:8080/",
          "height": 102
        }
      },
      "source": [
        "first_batch_labels = first_batch[1]\n",
        "first_batch_labels[0:5]"
      ],
      "execution_count": 0,
      "outputs": [
        {
          "output_type": "execute_result",
          "data": {
            "text/plain": [
              "array([[1., 0.],\n",
              "       [1., 0.],\n",
              "       [1., 0.],\n",
              "       [1., 0.],\n",
              "       [1., 0.]], dtype=float32)"
            ]
          },
          "metadata": {
            "tags": []
          },
          "execution_count": 100
        }
      ]
    },
    {
      "cell_type": "code",
      "metadata": {
        "id": "Fl-9659C1xf5",
        "colab_type": "code",
        "colab": {}
      },
      "source": [
        "predictions_vgg16  = model_vgg16.predict_generator(image_generator_test)"
      ],
      "execution_count": 0,
      "outputs": []
    },
    {
      "cell_type": "code",
      "metadata": {
        "id": "CkGocrJXbM8a",
        "colab_type": "code",
        "colab": {}
      },
      "source": [
        "import numpy as np"
      ],
      "execution_count": 0,
      "outputs": []
    },
    {
      "cell_type": "code",
      "metadata": {
        "id": "yQmj1FQj1xf7",
        "colab_type": "code",
        "outputId": "28996a8c-832b-4bbd-d583-60497ce5bde6",
        "colab": {
          "base_uri": "https://localhost:8080/",
          "height": 102
        }
      },
      "source": [
        "first_five_vgg16 = predictions_vgg16[0:5]\n",
        "first_five_vgg16_index = first_five_vgg16.argmax(axis=1)\n",
        "\n",
        "for first_five_vgg16_index in first_five_resnet_index:\n",
        "  if(class_index==0):\n",
        "    print('Negative')\n",
        "  else: \n",
        "    print('Positive')"
      ],
      "execution_count": 0,
      "outputs": [
        {
          "output_type": "stream",
          "text": [
            "Positive\n",
            "Positive\n",
            "Positive\n",
            "Positive\n",
            "Positive\n"
          ],
          "name": "stdout"
        }
      ]
    },
    {
      "cell_type": "markdown",
      "metadata": {
        "button": false,
        "deletable": true,
        "new_sheet": false,
        "run_control": {
          "read_only": false
        },
        "id": "mLGQcm3O1xgE",
        "colab_type": "text"
      },
      "source": [
        "### Thank you for completing this lab!\n",
        "\n",
        "This notebook was created by Alex Aklson."
      ]
    },
    {
      "cell_type": "markdown",
      "metadata": {
        "button": false,
        "deletable": true,
        "new_sheet": false,
        "run_control": {
          "read_only": false
        },
        "id": "BTP2f3tu1xgG",
        "colab_type": "text"
      },
      "source": [
        "This notebook is part of a course on **Coursera** called *AI Capstone Project with Deep Learning*. If you accessed this notebook outside the course, you can take this course online by clicking [here](https://cocl.us/DL0321EN_Coursera_Week4_LAB1)."
      ]
    },
    {
      "cell_type": "markdown",
      "metadata": {
        "button": false,
        "deletable": true,
        "new_sheet": false,
        "run_control": {
          "read_only": false
        },
        "id": "hwapHiqc1xgH",
        "colab_type": "text"
      },
      "source": [
        "<hr>\n",
        "\n",
        "Copyright &copy; 2020 [IBM Developer Skills Network](https://cognitiveclass.ai/?utm_source=bducopyrightlink&utm_medium=dswb&utm_campaign=bdu). This notebook and its source code are released under the terms of the [MIT License](https://bigdatauniversity.com/mit-license/)."
      ]
    }
  ]
}